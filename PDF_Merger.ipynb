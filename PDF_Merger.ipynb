{
 "cells": [
  {
   "cell_type": "code",
   "execution_count": 109,
   "metadata": {},
   "outputs": [],
   "source": [
    "import os, glob\n",
    "import PyPDF2 as pdf\n",
    "\n",
    "\n",
    "def Neat_pdf(Absolute_address):\n",
    "\n",
    "    path = Absolute_address\n",
    "    os.chdir(path)\n",
    "    \n",
    "    files = sorted(glob.glob(\"%s/*.pdf\"%(path)), key = os.path.getmtime)\n",
    "    Merger = pdf.PdfFileMerger()\n",
    "\n",
    "    for file in files:\n",
    "        fd = pdf.PdfFileReader(file)\n",
    "        Merger.append(fd, pages = (0,fd.getNumPages()-1))\n",
    "    \n",
    "    Merger.write(path +'/Merge.pdf')\n",
    "    Merger.close\n",
    "    \n",
    "Neat_pdf('/Users/user/Downloads/Economist')\n"
   ]
  },
  {
   "cell_type": "code",
   "execution_count": null,
   "metadata": {},
   "outputs": [],
   "source": []
  }
 ],
 "metadata": {
  "kernelspec": {
   "display_name": "Python 3",
   "language": "python",
   "name": "python3"
  },
  "language_info": {
   "codemirror_mode": {
    "name": "ipython",
    "version": 3
   },
   "file_extension": ".py",
   "mimetype": "text/x-python",
   "name": "python",
   "nbconvert_exporter": "python",
   "pygments_lexer": "ipython3",
   "version": "3.7.4"
  }
 },
 "nbformat": 4,
 "nbformat_minor": 2
}
